{
 "cells": [
  {
   "cell_type": "markdown",
   "id": "d962ab69-03b9-4d88-a4b0-b76a9fccae1a",
   "metadata": {},
   "source": [
    "# Project overview\n",
    "#### A cooking website is currently assessing the potential impact of transitioning its product page's media rail from a horizontal to a vertical orientation. The primary objective is to boost user engagement and drive sales\n",
    "#### The website is striving to enhance the user experience and increase conversion rates, encompassing both sales and engagement metrics. The shift to a vertical media rail holds the promise of enhancing the accessibility and appeal of media content."
   ]
  },
  {
   "cell_type": "markdown",
   "id": "8057457d-8726-4298-9fe0-b1a575599222",
   "metadata": {},
   "source": [
    "# Step 1: Imports\n",
    "#### Import relevant libraries, packages, and modules. we will need numpy, pandas, matplotlib.pyplot, statsmodels.api, and scipy."
   ]
  },
  {
   "cell_type": "code",
   "execution_count": 1,
   "id": "9d75990b-2b2d-449f-aefb-395a7c70411d",
   "metadata": {},
   "outputs": [],
   "source": [
    "# Import relevant libraries, packages, and modules.\n",
    "\n",
    "\n",
    "import numpy as np\n",
    "import pandas as pd\n",
    "import matplotlib.pyplot as plt\n",
    "import statsmodels.api as sm\n",
    "from scipy import stats\n",
    "import seaborn as sns"
   ]
  },
  {
   "cell_type": "code",
   "execution_count": 2,
   "id": "4a3844e2-9d40-45f2-a5f2-1b7847d1c406",
   "metadata": {},
   "outputs": [],
   "source": [
    "# Load data into a DataFrame and save in a variable.\n",
    "\n",
    "data = pd.read_csv(\"C:/Users/hp/Downloads/assessment_da25.csv\")"
   ]
  },
  {
   "cell_type": "markdown",
   "id": "5acb2632-7165-4c14-b85c-0f4f9b715e2a",
   "metadata": {},
   "source": [
    "# Step2: Data Exploration"
   ]
  },
  {
   "cell_type": "code",
   "execution_count": 3,
   "id": "6efea9ce-f0d8-48e2-86b9-aa526ee846a0",
   "metadata": {},
   "outputs": [
    {
     "data": {
      "text/html": [
       "<div>\n",
       "<style scoped>\n",
       "    .dataframe tbody tr th:only-of-type {\n",
       "        vertical-align: middle;\n",
       "    }\n",
       "\n",
       "    .dataframe tbody tr th {\n",
       "        vertical-align: top;\n",
       "    }\n",
       "\n",
       "    .dataframe thead th {\n",
       "        text-align: right;\n",
       "    }\n",
       "</style>\n",
       "<table border=\"1\" class=\"dataframe\">\n",
       "  <thead>\n",
       "    <tr style=\"text-align: right;\">\n",
       "      <th></th>\n",
       "      <th>Variant</th>\n",
       "      <th>Number of page views</th>\n",
       "      <th>GMV (in $)</th>\n",
       "      <th>Number of add to cart</th>\n",
       "      <th>Clicks on media</th>\n",
       "      <th>Time on Page (sec)</th>\n",
       "      <th>user_id</th>\n",
       "    </tr>\n",
       "  </thead>\n",
       "  <tbody>\n",
       "    <tr>\n",
       "      <th>0</th>\n",
       "      <td>A</td>\n",
       "      <td>5</td>\n",
       "      <td>0.0</td>\n",
       "      <td>0</td>\n",
       "      <td>2</td>\n",
       "      <td>74</td>\n",
       "      <td>0</td>\n",
       "    </tr>\n",
       "    <tr>\n",
       "      <th>1</th>\n",
       "      <td>A</td>\n",
       "      <td>4</td>\n",
       "      <td>0.0</td>\n",
       "      <td>4</td>\n",
       "      <td>1</td>\n",
       "      <td>21</td>\n",
       "      <td>1</td>\n",
       "    </tr>\n",
       "    <tr>\n",
       "      <th>2</th>\n",
       "      <td>A</td>\n",
       "      <td>4</td>\n",
       "      <td>0.0</td>\n",
       "      <td>2</td>\n",
       "      <td>0</td>\n",
       "      <td>1</td>\n",
       "      <td>2</td>\n",
       "    </tr>\n",
       "    <tr>\n",
       "      <th>3</th>\n",
       "      <td>A</td>\n",
       "      <td>5</td>\n",
       "      <td>0.0</td>\n",
       "      <td>0</td>\n",
       "      <td>1</td>\n",
       "      <td>26</td>\n",
       "      <td>3</td>\n",
       "    </tr>\n",
       "    <tr>\n",
       "      <th>4</th>\n",
       "      <td>A</td>\n",
       "      <td>5</td>\n",
       "      <td>0.0</td>\n",
       "      <td>3</td>\n",
       "      <td>3</td>\n",
       "      <td>46</td>\n",
       "      <td>4</td>\n",
       "    </tr>\n",
       "    <tr>\n",
       "      <th>5</th>\n",
       "      <td>A</td>\n",
       "      <td>3</td>\n",
       "      <td>0.0</td>\n",
       "      <td>1</td>\n",
       "      <td>1</td>\n",
       "      <td>31</td>\n",
       "      <td>5</td>\n",
       "    </tr>\n",
       "    <tr>\n",
       "      <th>6</th>\n",
       "      <td>A</td>\n",
       "      <td>5</td>\n",
       "      <td>0.0</td>\n",
       "      <td>2</td>\n",
       "      <td>1</td>\n",
       "      <td>18</td>\n",
       "      <td>6</td>\n",
       "    </tr>\n",
       "    <tr>\n",
       "      <th>7</th>\n",
       "      <td>A</td>\n",
       "      <td>4</td>\n",
       "      <td>0.0</td>\n",
       "      <td>2</td>\n",
       "      <td>0</td>\n",
       "      <td>22</td>\n",
       "      <td>7</td>\n",
       "    </tr>\n",
       "    <tr>\n",
       "      <th>8</th>\n",
       "      <td>A</td>\n",
       "      <td>6</td>\n",
       "      <td>0.0</td>\n",
       "      <td>0</td>\n",
       "      <td>2</td>\n",
       "      <td>91</td>\n",
       "      <td>8</td>\n",
       "    </tr>\n",
       "    <tr>\n",
       "      <th>9</th>\n",
       "      <td>A</td>\n",
       "      <td>7</td>\n",
       "      <td>0.0</td>\n",
       "      <td>2</td>\n",
       "      <td>3</td>\n",
       "      <td>2</td>\n",
       "      <td>9</td>\n",
       "    </tr>\n",
       "  </tbody>\n",
       "</table>\n",
       "</div>"
      ],
      "text/plain": [
       "  Variant  Number of page views  GMV (in $)  Number of add to cart  \\\n",
       "0       A                     5         0.0                      0   \n",
       "1       A                     4         0.0                      4   \n",
       "2       A                     4         0.0                      2   \n",
       "3       A                     5         0.0                      0   \n",
       "4       A                     5         0.0                      3   \n",
       "5       A                     3         0.0                      1   \n",
       "6       A                     5         0.0                      2   \n",
       "7       A                     4         0.0                      2   \n",
       "8       A                     6         0.0                      0   \n",
       "9       A                     7         0.0                      2   \n",
       "\n",
       "   Clicks on media  Time on Page (sec)  user_id  \n",
       "0                2                  74        0  \n",
       "1                1                  21        1  \n",
       "2                0                   1        2  \n",
       "3                1                  26        3  \n",
       "4                3                  46        4  \n",
       "5                1                  31        5  \n",
       "6                1                  18        6  \n",
       "7                0                  22        7  \n",
       "8                2                  91        8  \n",
       "9                3                   2        9  "
      ]
     },
     "execution_count": 3,
     "metadata": {},
     "output_type": "execute_result"
    }
   ],
   "source": [
    "data.head(10)"
   ]
  },
  {
   "cell_type": "code",
   "execution_count": 4,
   "id": "763bb195-fc13-447a-8f87-cdc94848bfa5",
   "metadata": {},
   "outputs": [
    {
     "name": "stdout",
     "output_type": "stream",
     "text": [
      "<class 'pandas.core.frame.DataFrame'>\n",
      "RangeIndex: 2000 entries, 0 to 1999\n",
      "Data columns (total 7 columns):\n",
      " #   Column                 Non-Null Count  Dtype  \n",
      "---  ------                 --------------  -----  \n",
      " 0   Variant                2000 non-null   object \n",
      " 1   Number of page views   2000 non-null   int64  \n",
      " 2   GMV (in $)             2000 non-null   float64\n",
      " 3   Number of add to cart  2000 non-null   int64  \n",
      " 4   Clicks on media        2000 non-null   int64  \n",
      " 5   Time on Page (sec)     2000 non-null   int64  \n",
      " 6   user_id                2000 non-null   int64  \n",
      "dtypes: float64(1), int64(5), object(1)\n",
      "memory usage: 109.5+ KB\n"
     ]
    }
   ],
   "source": [
    "data.info()"
   ]
  },
  {
   "cell_type": "code",
   "execution_count": 5,
   "id": "b9c06719-45df-4527-9406-1ac529cba7b0",
   "metadata": {},
   "outputs": [
    {
     "data": {
      "text/html": [
       "<div>\n",
       "<style scoped>\n",
       "    .dataframe tbody tr th:only-of-type {\n",
       "        vertical-align: middle;\n",
       "    }\n",
       "\n",
       "    .dataframe tbody tr th {\n",
       "        vertical-align: top;\n",
       "    }\n",
       "\n",
       "    .dataframe thead th {\n",
       "        text-align: right;\n",
       "    }\n",
       "</style>\n",
       "<table border=\"1\" class=\"dataframe\">\n",
       "  <thead>\n",
       "    <tr style=\"text-align: right;\">\n",
       "      <th></th>\n",
       "      <th>Number of page views</th>\n",
       "      <th>GMV (in $)</th>\n",
       "      <th>Number of add to cart</th>\n",
       "      <th>Clicks on media</th>\n",
       "      <th>Time on Page (sec)</th>\n",
       "      <th>user_id</th>\n",
       "    </tr>\n",
       "  </thead>\n",
       "  <tbody>\n",
       "    <tr>\n",
       "      <th>count</th>\n",
       "      <td>2000.000000</td>\n",
       "      <td>2000.000000</td>\n",
       "      <td>2000.000000</td>\n",
       "      <td>2000.000000</td>\n",
       "      <td>2000.000000</td>\n",
       "      <td>2000.000000</td>\n",
       "    </tr>\n",
       "    <tr>\n",
       "      <th>mean</th>\n",
       "      <td>5.151000</td>\n",
       "      <td>8.489760</td>\n",
       "      <td>2.176500</td>\n",
       "      <td>1.409500</td>\n",
       "      <td>20.295000</td>\n",
       "      <td>999.500000</td>\n",
       "    </tr>\n",
       "    <tr>\n",
       "      <th>std</th>\n",
       "      <td>2.333864</td>\n",
       "      <td>27.861282</td>\n",
       "      <td>1.518387</td>\n",
       "      <td>1.208528</td>\n",
       "      <td>19.964676</td>\n",
       "      <td>577.494589</td>\n",
       "    </tr>\n",
       "    <tr>\n",
       "      <th>min</th>\n",
       "      <td>0.000000</td>\n",
       "      <td>0.000000</td>\n",
       "      <td>0.000000</td>\n",
       "      <td>0.000000</td>\n",
       "      <td>1.000000</td>\n",
       "      <td>0.000000</td>\n",
       "    </tr>\n",
       "    <tr>\n",
       "      <th>25%</th>\n",
       "      <td>3.000000</td>\n",
       "      <td>0.000000</td>\n",
       "      <td>1.000000</td>\n",
       "      <td>1.000000</td>\n",
       "      <td>6.000000</td>\n",
       "      <td>499.750000</td>\n",
       "    </tr>\n",
       "    <tr>\n",
       "      <th>50%</th>\n",
       "      <td>5.000000</td>\n",
       "      <td>0.000000</td>\n",
       "      <td>2.000000</td>\n",
       "      <td>1.000000</td>\n",
       "      <td>14.000000</td>\n",
       "      <td>999.500000</td>\n",
       "    </tr>\n",
       "    <tr>\n",
       "      <th>75%</th>\n",
       "      <td>7.000000</td>\n",
       "      <td>0.000000</td>\n",
       "      <td>3.000000</td>\n",
       "      <td>2.000000</td>\n",
       "      <td>28.000000</td>\n",
       "      <td>1499.250000</td>\n",
       "    </tr>\n",
       "    <tr>\n",
       "      <th>max</th>\n",
       "      <td>15.000000</td>\n",
       "      <td>152.610000</td>\n",
       "      <td>10.000000</td>\n",
       "      <td>7.000000</td>\n",
       "      <td>143.000000</td>\n",
       "      <td>1999.000000</td>\n",
       "    </tr>\n",
       "  </tbody>\n",
       "</table>\n",
       "</div>"
      ],
      "text/plain": [
       "       Number of page views   GMV (in $)  Number of add to cart  \\\n",
       "count           2000.000000  2000.000000            2000.000000   \n",
       "mean               5.151000     8.489760               2.176500   \n",
       "std                2.333864    27.861282               1.518387   \n",
       "min                0.000000     0.000000               0.000000   \n",
       "25%                3.000000     0.000000               1.000000   \n",
       "50%                5.000000     0.000000               2.000000   \n",
       "75%                7.000000     0.000000               3.000000   \n",
       "max               15.000000   152.610000              10.000000   \n",
       "\n",
       "       Clicks on media  Time on Page (sec)      user_id  \n",
       "count      2000.000000         2000.000000  2000.000000  \n",
       "mean          1.409500           20.295000   999.500000  \n",
       "std           1.208528           19.964676   577.494589  \n",
       "min           0.000000            1.000000     0.000000  \n",
       "25%           1.000000            6.000000   499.750000  \n",
       "50%           1.000000           14.000000   999.500000  \n",
       "75%           2.000000           28.000000  1499.250000  \n",
       "max           7.000000          143.000000  1999.000000  "
      ]
     },
     "execution_count": 5,
     "metadata": {},
     "output_type": "execute_result"
    }
   ],
   "source": [
    "data.describe()"
   ]
  },
  {
   "cell_type": "code",
   "execution_count": 6,
   "id": "d0d8db73-d893-45c4-b044-1e968dc27ef0",
   "metadata": {},
   "outputs": [
    {
     "data": {
      "text/plain": [
       "Variant                  0\n",
       "Number of page views     0\n",
       "GMV (in $)               0\n",
       "Number of add to cart    0\n",
       "Clicks on media          0\n",
       "Time on Page (sec)       0\n",
       "user_id                  0\n",
       "dtype: int64"
      ]
     },
     "execution_count": 6,
     "metadata": {},
     "output_type": "execute_result"
    }
   ],
   "source": [
    "# Check for missing values\n",
    "data.isna().sum()"
   ]
  },
  {
   "cell_type": "code",
   "execution_count": 7,
   "id": "73bbb0fc-09be-4337-877b-773cf887b569",
   "metadata": {},
   "outputs": [
    {
     "data": {
      "text/plain": [
       "Text(0, 0.5, 'Number of page views')"
      ]
     },
     "execution_count": 7,
     "metadata": {},
     "output_type": "execute_result"
    },
    {
     "data": {
      "image/png": "[encoded data removed]",
      "text/plain": [
       "<Figure size 432x288 with 1 Axes>"
      ]
     },
     "metadata": {
      "needs_background": "light"
     },
     "output_type": "display_data"
    }
   ],
   "source": [
    "# #exploring means for the metrics \n",
    "sns.barplot(x=data['Variant'], y=data['Number of page views'], estimator=np.mean)\n",
    "plt.title('Number of page views per Variant')\n",
    "plt.xlabel('Variant')\n",
    "plt.ylabel('Number of page views')\n"
   ]
  },
  {
   "cell_type": "code",
   "execution_count": 8,
   "id": "616ea280-765a-4316-b5ef-863d5dc7bd7a",
   "metadata": {},
   "outputs": [
    {
     "data": {
      "text/plain": [
       "Text(0, 0.5, 'GMV (in $)')"
      ]
     },
     "execution_count": 8,
     "metadata": {},
     "output_type": "execute_result"
    },
    {
     "data": {
      "image/png": "[encoded data removed]",
      "text/plain": [
       "<Figure size 432x288 with 1 Axes>"
      ]
     },
     "metadata": {
      "needs_background": "light"
     },
     "output_type": "display_data"
    }
   ],
   "source": [
    "sns.barplot(x=data['Variant'], y=data['GMV (in $)'], estimator=np.mean)\n",
    "plt.title('GMV (in $) per Variant')\n",
    "plt.xlabel('Variant')\n",
    "plt.ylabel('GMV (in $)')"
   ]
  },
  {
   "cell_type": "code",
   "execution_count": 9,
   "id": "566a515b-e26d-428c-8212-cfe8054e2469",
   "metadata": {},
   "outputs": [
    {
     "data": {
      "text/plain": [
       "Text(0, 0.5, 'Clicks on media')"
      ]
     },
     "execution_count": 9,
     "metadata": {},
     "output_type": "execute_result"
    },
    {
     "data": {
      "image/png": "[encoded data removed]",
      "text/plain": [
       "<Figure size 432x288 with 1 Axes>"
      ]
     },
     "metadata": {
      "needs_background": "light"
     },
     "output_type": "display_data"
    }
   ],
   "source": [
    "sns.barplot(x=data['Variant'], y=data['Clicks on media'], estimator=np.mean)\n",
    "plt.title('Clicks on media per Variant')\n",
    "plt.xlabel('Variant')\n",
    "plt.ylabel('Clicks on media')"
   ]
  },
  {
   "cell_type": "code",
   "execution_count": 10,
   "id": "933e30b9-09e3-443a-b459-9d1e4d85e4e6",
   "metadata": {},
   "outputs": [
    {
     "data": {
      "text/plain": [
       "Text(0, 0.5, 'Time on Page (sec)')"
      ]
     },
     "execution_count": 10,
     "metadata": {},
     "output_type": "execute_result"
    },
    {
     "data": {
      "image/png": "[encoded data removed]",
      "text/plain": [
       "<Figure size 432x288 with 1 Axes>"
      ]
     },
     "metadata": {
      "needs_background": "light"
     },
     "output_type": "display_data"
    }
   ],
   "source": [
    "sns.barplot(x=data['Variant'], y=data['Time on Page (sec)'], estimator=np.mean)\n",
    "plt.title('Time on Page (sec) per Variant')\n",
    "plt.xlabel('Variant')\n",
    "plt.ylabel('Time on Page (sec)')"
   ]
  },
  {
   "cell_type": "code",
   "execution_count": 11,
   "id": "383bba64-d12a-4d08-a68d-23349b7bd96a",
   "metadata": {},
   "outputs": [
    {
     "data": {
      "text/plain": [
       "Text(0, 0.5, 'Number of add to cart')"
      ]
     },
     "execution_count": 11,
     "metadata": {},
     "output_type": "execute_result"
    },
    {
     "data": {
      "image/png": "[encoded data removed]",
      "text/plain": [
       "<Figure size 432x288 with 1 Axes>"
      ]
     },
     "metadata": {
      "needs_background": "light"
     },
     "output_type": "display_data"
    }
   ],
   "source": [
    "sns.barplot(x=data['Variant'], y=data['Number of add to cart'], estimator=np.mean)\n",
    "plt.title('Number of add to cart per Variant')\n",
    "plt.xlabel('Variant')\n",
    "plt.ylabel('Number of add to cart')"
   ]
  },
  {
   "cell_type": "code",
   "execution_count": 12,
   "id": "f71eb56e-191a-42ab-bc42-8afd5a965158",
   "metadata": {},
   "outputs": [
    {
     "data": {
      "text/html": [
       "<div>\n",
       "<style scoped>\n",
       "    .dataframe tbody tr th:only-of-type {\n",
       "        vertical-align: middle;\n",
       "    }\n",
       "\n",
       "    .dataframe tbody tr th {\n",
       "        vertical-align: top;\n",
       "    }\n",
       "\n",
       "    .dataframe thead th {\n",
       "        text-align: right;\n",
       "    }\n",
       "</style>\n",
       "<table border=\"1\" class=\"dataframe\">\n",
       "  <thead>\n",
       "    <tr style=\"text-align: right;\">\n",
       "      <th></th>\n",
       "      <th>Number of page views</th>\n",
       "      <th>GMV (in $)</th>\n",
       "      <th>Clicks on media</th>\n",
       "      <th>Time on Page (sec)</th>\n",
       "      <th>Number of add to cart</th>\n",
       "    </tr>\n",
       "    <tr>\n",
       "      <th>Variant</th>\n",
       "      <th></th>\n",
       "      <th></th>\n",
       "      <th></th>\n",
       "      <th></th>\n",
       "      <th></th>\n",
       "    </tr>\n",
       "  </thead>\n",
       "  <tbody>\n",
       "    <tr>\n",
       "      <th>A</th>\n",
       "      <td>4.985</td>\n",
       "      <td>7.68999</td>\n",
       "      <td>1.495</td>\n",
       "      <td>20.543</td>\n",
       "      <td>1.884</td>\n",
       "    </tr>\n",
       "    <tr>\n",
       "      <th>B</th>\n",
       "      <td>5.317</td>\n",
       "      <td>9.28953</td>\n",
       "      <td>1.324</td>\n",
       "      <td>20.047</td>\n",
       "      <td>2.469</td>\n",
       "    </tr>\n",
       "  </tbody>\n",
       "</table>\n",
       "</div>"
      ],
      "text/plain": [
       "         Number of page views  GMV (in $)  Clicks on media  \\\n",
       "Variant                                                      \n",
       "A                       4.985     7.68999            1.495   \n",
       "B                       5.317     9.28953            1.324   \n",
       "\n",
       "         Time on Page (sec)  Number of add to cart  \n",
       "Variant                                             \n",
       "A                    20.543                  1.884  \n",
       "B                    20.047                  2.469  "
      ]
     },
     "execution_count": 12,
     "metadata": {},
     "output_type": "execute_result"
    }
   ],
   "source": [
    "\n",
    "data.groupby(\"Variant\")[['Number of page views','GMV (in $)',\"Clicks on media\",\"Time on Page (sec)\",\"Number of add to cart\"]].mean()"
   ]
  },
  {
   "cell_type": "code",
   "execution_count": 13,
   "id": "50811ae8-2636-4b09-8028-94ca5d07181b",
   "metadata": {},
   "outputs": [
    {
     "data": {
      "image/png": "[encoded data removed]",
      "text/plain": [
       "<Figure size 946.975x900 with 30 Axes>"
      ]
     },
     "metadata": {},
     "output_type": "display_data"
    }
   ],
   "source": [
    "# explore distrebutions and relations between variables # Select relevant columns for the pairplot to explore more about data variables relationship\n",
    "selected_columns = ['Number of page views', 'GMV (in $)', 'Clicks on media', 'Time on Page (sec)', 'Number of add to cart', 'Variant']\n",
    "\n",
    "# Filter data for selected columns\n",
    "pairplot_data = data[selected_columns]\n",
    "\n",
    "# Set style\n",
    "sns.set(style=\"ticks\")\n",
    "\n",
    "# Create pairplot\n",
    "pairplot = sns.pairplot(pairplot_data, hue='Variant', markers=[\"o\", \"s\"], palette={\"A\": \"blue\", \"B\": \"green\"})\n",
    "\n",
    "# Show the plot\n",
    "plt.show()\n"
   ]
  },
  {
   "cell_type": "markdown",
   "id": "80ff4d9b-9fbe-4b31-97b7-dfb7145ea3e4",
   "metadata": {},
   "source": [
    "# Step3:Sampling"
   ]
  },
  {
   "cell_type": "code",
   "execution_count": 15,
   "id": "b104bf16-9603-4ef1-b4e8-ec11e20915e3",
   "metadata": {},
   "outputs": [
    {
     "data": {
      "text/plain": [
       "A    0.5\n",
       "B    0.5\n",
       "Name: Variant, dtype: float64"
      ]
     },
     "execution_count": 15,
     "metadata": {},
     "output_type": "execute_result"
    }
   ],
   "source": [
    "#check Randomization- Assigning %50 for both control&treatment groups\n",
    "data['Variant'].value_counts(normalize=True)"
   ]
  },
  {
   "cell_type": "markdown",
   "id": "dd0de9af-810f-413d-8206-7fadb96e659b",
   "metadata": {},
   "source": [
    "## Considering conversion rate as a primary metric\n",
    "##### let's consider the \"Number of add to cart\" as the conversion event."
   ]
  },
  {
   "cell_type": "code",
   "execution_count": 16,
   "id": "a5b36ddf-41fc-4979-9b62-ec126827dfa7",
   "metadata": {},
   "outputs": [
    {
     "data": {
      "text/plain": [
       "0        0.000000\n",
       "1      100.000000\n",
       "2       50.000000\n",
       "3        0.000000\n",
       "4       60.000000\n",
       "          ...    \n",
       "995     66.666667\n",
       "996     11.111111\n",
       "997     12.500000\n",
       "998      0.000000\n",
       "999     50.000000\n",
       "Length: 1000, dtype: float64"
      ]
     },
     "execution_count": 16,
     "metadata": {},
     "output_type": "execute_result"
    }
   ],
   "source": [
    "# Calculation for coversion rate variant A\n",
    "Add_to_cart_A = data[data[\"Variant\"] == \"A\"][\"Number of add to cart\"]\n",
    "Page_views_A = data[data[\"Variant\"] == \"A\"][\"Number of page views\"]\n",
    "CR_A=(Add_to_cart_A/Page_views_A)*100\n",
    "CR_A\n"
   ]
  },
  {
   "cell_type": "code",
   "execution_count": 17,
   "id": "33c949f9-43e2-4399-89d9-91c5dfbc9ee2",
   "metadata": {},
   "outputs": [
    {
     "data": {
      "text/plain": [
       "1000     66.666667\n",
       "1001    300.000000\n",
       "1002     37.500000\n",
       "1003      0.000000\n",
       "1004    500.000000\n",
       "           ...    \n",
       "1995     33.333333\n",
       "1996     33.333333\n",
       "1997     66.666667\n",
       "1998     50.000000\n",
       "1999     71.428571\n",
       "Length: 1000, dtype: float64"
      ]
     },
     "execution_count": 17,
     "metadata": {},
     "output_type": "execute_result"
    }
   ],
   "source": [
    "Add_to_cart_B = data[data[\"Variant\"] == \"B\"][\"Number of add to cart\"]\n",
    "Page_views_B = data[data[\"Variant\"] == \"B\"][\"Number of page views\"]\n",
    "CR_B=(Add_to_cart_B/Page_views_B)*100\n",
    "CR_B"
   ]
  },
  {
   "cell_type": "code",
   "execution_count": 18,
   "id": "2a55882a-6487-44a9-a270-4dc406d44158",
   "metadata": {},
   "outputs": [
    {
     "data": {
      "text/plain": [
       "102     66.666667\n",
       "435    100.000000\n",
       "860     66.666667\n",
       "270     66.666667\n",
       "106    133.333333\n",
       "71       0.000000\n",
       "700    100.000000\n",
       "20       9.090909\n",
       "614      0.000000\n",
       "121     14.285714\n",
       "dtype: float64"
      ]
     },
     "execution_count": 18,
     "metadata": {},
     "output_type": "execute_result"
    }
   ],
   "source": [
    "# Sampling variant A\n",
    "sampled_data_A = CR_A.sample(n=300, replace=True, random_state=42)\n",
    "sampled_data_A.head(10)"
   ]
  },
  {
   "cell_type": "code",
   "execution_count": 19,
   "id": "8953d7e4-52f6-442c-9996-8379709bfdf7",
   "metadata": {},
   "outputs": [
    {
     "data": {
      "text/plain": [
       "66.66666666666666"
      ]
     },
     "execution_count": 19,
     "metadata": {},
     "output_type": "execute_result"
    }
   ],
   "source": [
    "sample_mean_A = sampled_data_A[:1].mean()\n",
    "sample_mean_A"
   ]
  },
  {
   "cell_type": "markdown",
   "id": "9135a900-c6e3-46cb-8f73-2dc777ccf7ff",
   "metadata": {},
   "source": [
    "## Apply the central limit theorem"
   ]
  },
  {
   "cell_type": "code",
   "execution_count": 21,
   "id": "b7797be7-ab4a-4059-9e02-f9cf785ccc2c",
   "metadata": {},
   "outputs": [],
   "source": [
    "estimate_list = []\n",
    "for i in range(1001):\n",
    "    estimate_list.append(CR_A.sample(n=300,replace=True).mean())"
   ]
  },
  {
   "cell_type": "code",
   "execution_count": 22,
   "id": "b1a6c1de-2647-4d62-8643-3f355e48f5f3",
   "metadata": {},
   "outputs": [
    {
     "data": {
      "text/html": [
       "<div>\n",
       "<style scoped>\n",
       "    .dataframe tbody tr th:only-of-type {\n",
       "        vertical-align: middle;\n",
       "    }\n",
       "\n",
       "    .dataframe tbody tr th {\n",
       "        vertical-align: top;\n",
       "    }\n",
       "\n",
       "    .dataframe thead th {\n",
       "        text-align: right;\n",
       "    }\n",
       "</style>\n",
       "<table border=\"1\" class=\"dataframe\">\n",
       "  <thead>\n",
       "    <tr style=\"text-align: right;\">\n",
       "      <th></th>\n",
       "      <th>estimate</th>\n",
       "    </tr>\n",
       "  </thead>\n",
       "  <tbody>\n",
       "    <tr>\n",
       "      <th>0</th>\n",
       "      <td>53.749014</td>\n",
       "    </tr>\n",
       "    <tr>\n",
       "      <th>1</th>\n",
       "      <td>47.102778</td>\n",
       "    </tr>\n",
       "    <tr>\n",
       "      <th>2</th>\n",
       "      <td>50.754503</td>\n",
       "    </tr>\n",
       "    <tr>\n",
       "      <th>3</th>\n",
       "      <td>52.642932</td>\n",
       "    </tr>\n",
       "    <tr>\n",
       "      <th>4</th>\n",
       "      <td>59.164700</td>\n",
       "    </tr>\n",
       "    <tr>\n",
       "      <th>5</th>\n",
       "      <td>48.352185</td>\n",
       "    </tr>\n",
       "    <tr>\n",
       "      <th>6</th>\n",
       "      <td>46.782833</td>\n",
       "    </tr>\n",
       "    <tr>\n",
       "      <th>7</th>\n",
       "      <td>50.096337</td>\n",
       "    </tr>\n",
       "    <tr>\n",
       "      <th>8</th>\n",
       "      <td>50.034133</td>\n",
       "    </tr>\n",
       "    <tr>\n",
       "      <th>9</th>\n",
       "      <td>54.198495</td>\n",
       "    </tr>\n",
       "  </tbody>\n",
       "</table>\n",
       "</div>"
      ],
      "text/plain": [
       "    estimate\n",
       "0  53.749014\n",
       "1  47.102778\n",
       "2  50.754503\n",
       "3  52.642932\n",
       "4  59.164700\n",
       "5  48.352185\n",
       "6  46.782833\n",
       "7  50.096337\n",
       "8  50.034133\n",
       "9  54.198495"
      ]
     },
     "execution_count": 22,
     "metadata": {},
     "output_type": "execute_result"
    }
   ],
   "source": [
    "estimate_df_A = pd.DataFrame(data={'estimate': estimate_list})\n",
    "estimate_df_A.head(10)"
   ]
  },
  {
   "cell_type": "code",
   "execution_count": 23,
   "id": "0216ecbc-5a5d-4043-bff1-08e7cff38f66",
   "metadata": {},
   "outputs": [
    {
     "data": {
      "text/plain": [
       "50.47990406942223"
      ]
     },
     "execution_count": 23,
     "metadata": {},
     "output_type": "execute_result"
    }
   ],
   "source": [
    "mean_sample_means_A = estimate_df_A['estimate'].mean()\n",
    "mean_sample_means_A"
   ]
  },
  {
   "cell_type": "code",
   "execution_count": 24,
   "id": "aae6b3eb-87a9-4bab-8ef5-1bee202b25e6",
   "metadata": {},
   "outputs": [
    {
     "data": {
      "text/plain": [
       "<AxesSubplot:>"
      ]
     },
     "execution_count": 24,
     "metadata": {},
     "output_type": "execute_result"
    },
    {
     "data": {
      "image/png": "[encoded data removed]",
      "text/plain": [
       "<Figure size 432x288 with 1 Axes>"
      ]
     },
     "metadata": {},
     "output_type": "display_data"
    }
   ],
   "source": [
    "# Distribution sample for variant A using a histogram \n",
    "estimate_df_A['estimate'].hist()"
   ]
  },
  {
   "cell_type": "code",
   "execution_count": 49,
   "id": "53e046fc-b8a7-463d-aed6-ddaaeee79c37",
   "metadata": {},
   "outputs": [
    {
     "data": {
      "text/plain": [
       "1945     14.285714\n",
       "1072    150.000000\n",
       "1390     11.111111\n",
       "1575     28.571429\n",
       "1799     25.000000\n",
       "1627     42.857143\n",
       "1942     75.000000\n",
       "1185     66.666667\n",
       "1154     50.000000\n",
       "1266    100.000000\n",
       "dtype: float64"
      ]
     },
     "execution_count": 49,
     "metadata": {},
     "output_type": "execute_result"
    }
   ],
   "source": [
    "# Sampling variant B\n",
    "sampled_data_B = CR_B.sample(n=300, replace=True, random_state=420)\n",
    "sampled_data_B.head(10)"
   ]
  },
  {
   "cell_type": "code",
   "execution_count": 26,
   "id": "a8b7d26f-ccd8-447e-8453-42265091c598",
   "metadata": {},
   "outputs": [
    {
     "data": {
      "text/plain": [
       "14.285714285714285"
      ]
     },
     "execution_count": 26,
     "metadata": {},
     "output_type": "execute_result"
    }
   ],
   "source": [
    "sample_mean_B = sampled_data_B[:1].mean()\n",
    "sample_mean_B"
   ]
  },
  {
   "cell_type": "markdown",
   "id": "e71333fb-807d-42a9-908b-4657dd3bc1fb",
   "metadata": {},
   "source": [
    "## Apply the central limit theorem"
   ]
  },
  {
   "cell_type": "code",
   "execution_count": 28,
   "id": "34d6713b-8229-41c1-be4e-ce5d3b0b564d",
   "metadata": {},
   "outputs": [],
   "source": [
    "# random sampling for Conversion rate for variant B\n",
    "estimate_list = []\n",
    "for i in range(1000):\n",
    "    estimate_list.append(CR_B.sample(n=300,replace=True).mean())"
   ]
  },
  {
   "cell_type": "code",
   "execution_count": 29,
   "id": "8b7d64ca-0b82-4084-a60c-30d766d2fcce",
   "metadata": {},
   "outputs": [
    {
     "data": {
      "text/html": [
       "<div>\n",
       "<style scoped>\n",
       "    .dataframe tbody tr th:only-of-type {\n",
       "        vertical-align: middle;\n",
       "    }\n",
       "\n",
       "    .dataframe tbody tr th {\n",
       "        vertical-align: top;\n",
       "    }\n",
       "\n",
       "    .dataframe thead th {\n",
       "        text-align: right;\n",
       "    }\n",
       "</style>\n",
       "<table border=\"1\" class=\"dataframe\">\n",
       "  <thead>\n",
       "    <tr style=\"text-align: right;\">\n",
       "      <th></th>\n",
       "      <th>estimate</th>\n",
       "    </tr>\n",
       "  </thead>\n",
       "  <tbody>\n",
       "    <tr>\n",
       "      <th>0</th>\n",
       "      <td>56.274094</td>\n",
       "    </tr>\n",
       "    <tr>\n",
       "      <th>1</th>\n",
       "      <td>58.547600</td>\n",
       "    </tr>\n",
       "    <tr>\n",
       "      <th>2</th>\n",
       "      <td>58.722231</td>\n",
       "    </tr>\n",
       "    <tr>\n",
       "      <th>3</th>\n",
       "      <td>54.964330</td>\n",
       "    </tr>\n",
       "    <tr>\n",
       "      <th>4</th>\n",
       "      <td>60.590414</td>\n",
       "    </tr>\n",
       "    <tr>\n",
       "      <th>5</th>\n",
       "      <td>57.381526</td>\n",
       "    </tr>\n",
       "    <tr>\n",
       "      <th>6</th>\n",
       "      <td>55.283285</td>\n",
       "    </tr>\n",
       "    <tr>\n",
       "      <th>7</th>\n",
       "      <td>63.864345</td>\n",
       "    </tr>\n",
       "    <tr>\n",
       "      <th>8</th>\n",
       "      <td>55.451472</td>\n",
       "    </tr>\n",
       "    <tr>\n",
       "      <th>9</th>\n",
       "      <td>56.194169</td>\n",
       "    </tr>\n",
       "  </tbody>\n",
       "</table>\n",
       "</div>"
      ],
      "text/plain": [
       "    estimate\n",
       "0  56.274094\n",
       "1  58.547600\n",
       "2  58.722231\n",
       "3  54.964330\n",
       "4  60.590414\n",
       "5  57.381526\n",
       "6  55.283285\n",
       "7  63.864345\n",
       "8  55.451472\n",
       "9  56.194169"
      ]
     },
     "execution_count": 29,
     "metadata": {},
     "output_type": "execute_result"
    }
   ],
   "source": [
    "estimate_df_B = pd.DataFrame(data={'estimate': estimate_list})\n",
    "estimate_df_B.head(10)"
   ]
  },
  {
   "cell_type": "code",
   "execution_count": 30,
   "id": "4120edf8-9caa-4729-8a1c-6b32b4c89fe9",
   "metadata": {},
   "outputs": [
    {
     "data": {
      "text/plain": [
       "58.05544728257213"
      ]
     },
     "execution_count": 30,
     "metadata": {},
     "output_type": "execute_result"
    }
   ],
   "source": [
    "mean_sample_means_B = estimate_df_B['estimate'].mean()\n",
    "mean_sample_means_B"
   ]
  },
  {
   "cell_type": "code",
   "execution_count": 51,
   "id": "6a030cf5-7858-4319-aa3f-08355639e3b5",
   "metadata": {},
   "outputs": [
    {
     "data": {
      "text/plain": [
       "<AxesSubplot:>"
      ]
     },
     "execution_count": 51,
     "metadata": {},
     "output_type": "execute_result"
    },
    {
     "data": {
      "image/png": "[encoded data removed]",
      "text/plain": [
       "<Figure size 432x288 with 1 Axes>"
      ]
     },
     "metadata": {},
     "output_type": "display_data"
    }
   ],
   "source": [
    "# Distribution sample for variant B using a histogram \n",
    "estimate_df_B['estimate'].hist()"
   ]
  },
  {
   "cell_type": "markdown",
   "id": "2d31e0e4-fcd9-4413-a683-57cf4a185449",
   "metadata": {},
   "source": [
    "## Concidering Gross Merchandise Value (GMV) as Secondary metrics"
   ]
  },
  {
   "cell_type": "code",
   "execution_count": 32,
   "id": "ed46ca0f-ff1c-4946-b474-ba08ba349dad",
   "metadata": {},
   "outputs": [
    {
     "data": {
      "text/html": [
       "<div>\n",
       "<style scoped>\n",
       "    .dataframe tbody tr th:only-of-type {\n",
       "        vertical-align: middle;\n",
       "    }\n",
       "\n",
       "    .dataframe tbody tr th {\n",
       "        vertical-align: top;\n",
       "    }\n",
       "\n",
       "    .dataframe thead th {\n",
       "        text-align: right;\n",
       "    }\n",
       "</style>\n",
       "<table border=\"1\" class=\"dataframe\">\n",
       "  <thead>\n",
       "    <tr style=\"text-align: right;\">\n",
       "      <th></th>\n",
       "      <th>Variant</th>\n",
       "      <th>Number of page views</th>\n",
       "      <th>GMV (in $)</th>\n",
       "      <th>Number of add to cart</th>\n",
       "      <th>Clicks on media</th>\n",
       "      <th>Time on Page (sec)</th>\n",
       "      <th>user_id</th>\n",
       "    </tr>\n",
       "  </thead>\n",
       "  <tbody>\n",
       "    <tr>\n",
       "      <th>134</th>\n",
       "      <td>A</td>\n",
       "      <td>9</td>\n",
       "      <td>0.0</td>\n",
       "      <td>6</td>\n",
       "      <td>3</td>\n",
       "      <td>14</td>\n",
       "      <td>134</td>\n",
       "    </tr>\n",
       "    <tr>\n",
       "      <th>640</th>\n",
       "      <td>A</td>\n",
       "      <td>5</td>\n",
       "      <td>0.0</td>\n",
       "      <td>0</td>\n",
       "      <td>3</td>\n",
       "      <td>5</td>\n",
       "      <td>640</td>\n",
       "    </tr>\n",
       "    <tr>\n",
       "      <th>491</th>\n",
       "      <td>A</td>\n",
       "      <td>9</td>\n",
       "      <td>0.0</td>\n",
       "      <td>2</td>\n",
       "      <td>2</td>\n",
       "      <td>23</td>\n",
       "      <td>491</td>\n",
       "    </tr>\n",
       "    <tr>\n",
       "      <th>164</th>\n",
       "      <td>A</td>\n",
       "      <td>3</td>\n",
       "      <td>0.0</td>\n",
       "      <td>0</td>\n",
       "      <td>0</td>\n",
       "      <td>4</td>\n",
       "      <td>164</td>\n",
       "    </tr>\n",
       "    <tr>\n",
       "      <th>107</th>\n",
       "      <td>A</td>\n",
       "      <td>5</td>\n",
       "      <td>0.0</td>\n",
       "      <td>0</td>\n",
       "      <td>1</td>\n",
       "      <td>42</td>\n",
       "      <td>107</td>\n",
       "    </tr>\n",
       "    <tr>\n",
       "      <th>608</th>\n",
       "      <td>A</td>\n",
       "      <td>7</td>\n",
       "      <td>0.0</td>\n",
       "      <td>1</td>\n",
       "      <td>3</td>\n",
       "      <td>40</td>\n",
       "      <td>608</td>\n",
       "    </tr>\n",
       "    <tr>\n",
       "      <th>699</th>\n",
       "      <td>A</td>\n",
       "      <td>4</td>\n",
       "      <td>0.0</td>\n",
       "      <td>1</td>\n",
       "      <td>1</td>\n",
       "      <td>32</td>\n",
       "      <td>699</td>\n",
       "    </tr>\n",
       "    <tr>\n",
       "      <th>485</th>\n",
       "      <td>A</td>\n",
       "      <td>9</td>\n",
       "      <td>0.0</td>\n",
       "      <td>3</td>\n",
       "      <td>3</td>\n",
       "      <td>20</td>\n",
       "      <td>485</td>\n",
       "    </tr>\n",
       "    <tr>\n",
       "      <th>965</th>\n",
       "      <td>A</td>\n",
       "      <td>5</td>\n",
       "      <td>0.0</td>\n",
       "      <td>2</td>\n",
       "      <td>1</td>\n",
       "      <td>22</td>\n",
       "      <td>965</td>\n",
       "    </tr>\n",
       "    <tr>\n",
       "      <th>15</th>\n",
       "      <td>A</td>\n",
       "      <td>6</td>\n",
       "      <td>0.0</td>\n",
       "      <td>1</td>\n",
       "      <td>4</td>\n",
       "      <td>5</td>\n",
       "      <td>15</td>\n",
       "    </tr>\n",
       "  </tbody>\n",
       "</table>\n",
       "</div>"
      ],
      "text/plain": [
       "    Variant  Number of page views  GMV (in $)  Number of add to cart  \\\n",
       "134       A                     9         0.0                      6   \n",
       "640       A                     5         0.0                      0   \n",
       "491       A                     9         0.0                      2   \n",
       "164       A                     3         0.0                      0   \n",
       "107       A                     5         0.0                      0   \n",
       "608       A                     7         0.0                      1   \n",
       "699       A                     4         0.0                      1   \n",
       "485       A                     9         0.0                      3   \n",
       "965       A                     5         0.0                      2   \n",
       "15        A                     6         0.0                      1   \n",
       "\n",
       "     Clicks on media  Time on Page (sec)  user_id  \n",
       "134                3                  14      134  \n",
       "640                3                   5      640  \n",
       "491                2                  23      491  \n",
       "164                0                   4      164  \n",
       "107                1                  42      107  \n",
       "608                3                  40      608  \n",
       "699                1                  32      699  \n",
       "485                3                  20      485  \n",
       "965                1                  22      965  \n",
       "15                 4                   5       15  "
      ]
     },
     "execution_count": 32,
     "metadata": {},
     "output_type": "execute_result"
    }
   ],
   "source": [
    "sampled_data_A = data[data[\"Variant\"]==\"A\"].sample(n=300, replace=True, random_state=432)\n",
    "sampled_data_A.head(10)"
   ]
  },
  {
   "cell_type": "code",
   "execution_count": 33,
   "id": "31604d8f-d02a-485b-9741-9abef4e13a1b",
   "metadata": {},
   "outputs": [
    {
     "data": {
      "text/plain": [
       "7.116366666666666"
      ]
     },
     "execution_count": 33,
     "metadata": {},
     "output_type": "execute_result"
    }
   ],
   "source": [
    "sample_mean_A = sampled_data_A['GMV (in $)'].mean()\n",
    "sample_mean_A"
   ]
  },
  {
   "cell_type": "markdown",
   "id": "12ac6b5b-da22-49cb-9dbd-2aad5b5ff844",
   "metadata": {},
   "source": [
    "## Apply the central limit theorem"
   ]
  },
  {
   "cell_type": "code",
   "execution_count": 35,
   "id": "3ce06fdd-372b-48dc-a5c6-8564f571dc05",
   "metadata": {},
   "outputs": [],
   "source": [
    "# Do a random sampling for GMV (in $) for variant A\n",
    "estimate_list = []\n",
    "for i in range(1000):\n",
    "    estimate_list.append(sampled_data_A['GMV (in $)'].sample(n=300,replace=True).mean())"
   ]
  },
  {
   "cell_type": "code",
   "execution_count": 36,
   "id": "02a6581e-0f28-4af5-99f0-47e8d757ca26",
   "metadata": {},
   "outputs": [
    {
     "data": {
      "text/html": [
       "<div>\n",
       "<style scoped>\n",
       "    .dataframe tbody tr th:only-of-type {\n",
       "        vertical-align: middle;\n",
       "    }\n",
       "\n",
       "    .dataframe tbody tr th {\n",
       "        vertical-align: top;\n",
       "    }\n",
       "\n",
       "    .dataframe thead th {\n",
       "        text-align: right;\n",
       "    }\n",
       "</style>\n",
       "<table border=\"1\" class=\"dataframe\">\n",
       "  <thead>\n",
       "    <tr style=\"text-align: right;\">\n",
       "      <th></th>\n",
       "      <th>estimate</th>\n",
       "    </tr>\n",
       "  </thead>\n",
       "  <tbody>\n",
       "    <tr>\n",
       "      <th>0</th>\n",
       "      <td>7.707667</td>\n",
       "    </tr>\n",
       "    <tr>\n",
       "      <th>1</th>\n",
       "      <td>5.417033</td>\n",
       "    </tr>\n",
       "    <tr>\n",
       "      <th>2</th>\n",
       "      <td>7.571200</td>\n",
       "    </tr>\n",
       "    <tr>\n",
       "      <th>3</th>\n",
       "      <td>7.195700</td>\n",
       "    </tr>\n",
       "    <tr>\n",
       "      <th>4</th>\n",
       "      <td>7.286333</td>\n",
       "    </tr>\n",
       "  </tbody>\n",
       "</table>\n",
       "</div>"
      ],
      "text/plain": [
       "   estimate\n",
       "0  7.707667\n",
       "1  5.417033\n",
       "2  7.571200\n",
       "3  7.195700\n",
       "4  7.286333"
      ]
     },
     "execution_count": 36,
     "metadata": {},
     "output_type": "execute_result"
    }
   ],
   "source": [
    "estimate_df_A = pd.DataFrame(data={'estimate': estimate_list})\n",
    "estimate_df_A.head()"
   ]
  },
  {
   "cell_type": "code",
   "execution_count": 37,
   "id": "4eb7a4cf-f992-4649-b067-d51b6ef62618",
   "metadata": {},
   "outputs": [
    {
     "data": {
      "text/plain": [
       "7.1177979"
      ]
     },
     "execution_count": 37,
     "metadata": {},
     "output_type": "execute_result"
    }
   ],
   "source": [
    "mean_sample_means_A = estimate_df_A['estimate'].mean()\n",
    "mean_sample_means_A"
   ]
  },
  {
   "cell_type": "code",
   "execution_count": 38,
   "id": "fc8aa97a-f925-4d77-a48e-55e8d1ffec83",
   "metadata": {},
   "outputs": [
    {
     "data": {
      "text/plain": [
       "<AxesSubplot:>"
      ]
     },
     "execution_count": 38,
     "metadata": {},
     "output_type": "execute_result"
    },
    {
     "data": {
      "image/png": "[encoded data removed]",
      "text/plain": [
       "<Figure size 432x288 with 1 Axes>"
      ]
     },
     "metadata": {},
     "output_type": "display_data"
    }
   ],
   "source": [
    "# Distribution using a histogram \n",
    "estimate_df_A['estimate'].hist()"
   ]
  },
  {
   "cell_type": "code",
   "execution_count": 39,
   "id": "0aa41e10-3d44-4e3f-8116-a0594db69fad",
   "metadata": {},
   "outputs": [
    {
     "data": {
      "text/html": [
       "<div>\n",
       "<style scoped>\n",
       "    .dataframe tbody tr th:only-of-type {\n",
       "        vertical-align: middle;\n",
       "    }\n",
       "\n",
       "    .dataframe tbody tr th {\n",
       "        vertical-align: top;\n",
       "    }\n",
       "\n",
       "    .dataframe thead th {\n",
       "        text-align: right;\n",
       "    }\n",
       "</style>\n",
       "<table border=\"1\" class=\"dataframe\">\n",
       "  <thead>\n",
       "    <tr style=\"text-align: right;\">\n",
       "      <th></th>\n",
       "      <th>Variant</th>\n",
       "      <th>Number of page views</th>\n",
       "      <th>GMV (in $)</th>\n",
       "      <th>Number of add to cart</th>\n",
       "      <th>Clicks on media</th>\n",
       "      <th>Time on Page (sec)</th>\n",
       "      <th>user_id</th>\n",
       "    </tr>\n",
       "  </thead>\n",
       "  <tbody>\n",
       "    <tr>\n",
       "      <th>1394</th>\n",
       "      <td>B</td>\n",
       "      <td>5</td>\n",
       "      <td>0.00</td>\n",
       "      <td>3</td>\n",
       "      <td>1</td>\n",
       "      <td>7</td>\n",
       "      <td>1394</td>\n",
       "    </tr>\n",
       "    <tr>\n",
       "      <th>1432</th>\n",
       "      <td>B</td>\n",
       "      <td>5</td>\n",
       "      <td>0.00</td>\n",
       "      <td>4</td>\n",
       "      <td>1</td>\n",
       "      <td>79</td>\n",
       "      <td>1432</td>\n",
       "    </tr>\n",
       "    <tr>\n",
       "      <th>1543</th>\n",
       "      <td>B</td>\n",
       "      <td>10</td>\n",
       "      <td>140.43</td>\n",
       "      <td>2</td>\n",
       "      <td>3</td>\n",
       "      <td>42</td>\n",
       "      <td>1543</td>\n",
       "    </tr>\n",
       "    <tr>\n",
       "      <th>1599</th>\n",
       "      <td>B</td>\n",
       "      <td>4</td>\n",
       "      <td>0.00</td>\n",
       "      <td>1</td>\n",
       "      <td>2</td>\n",
       "      <td>19</td>\n",
       "      <td>1599</td>\n",
       "    </tr>\n",
       "    <tr>\n",
       "      <th>1403</th>\n",
       "      <td>B</td>\n",
       "      <td>3</td>\n",
       "      <td>91.03</td>\n",
       "      <td>3</td>\n",
       "      <td>1</td>\n",
       "      <td>13</td>\n",
       "      <td>1403</td>\n",
       "    </tr>\n",
       "    <tr>\n",
       "      <th>1484</th>\n",
       "      <td>B</td>\n",
       "      <td>6</td>\n",
       "      <td>0.00</td>\n",
       "      <td>1</td>\n",
       "      <td>1</td>\n",
       "      <td>21</td>\n",
       "      <td>1484</td>\n",
       "    </tr>\n",
       "    <tr>\n",
       "      <th>1560</th>\n",
       "      <td>B</td>\n",
       "      <td>9</td>\n",
       "      <td>0.00</td>\n",
       "      <td>4</td>\n",
       "      <td>2</td>\n",
       "      <td>4</td>\n",
       "      <td>1560</td>\n",
       "    </tr>\n",
       "    <tr>\n",
       "      <th>1480</th>\n",
       "      <td>B</td>\n",
       "      <td>5</td>\n",
       "      <td>0.00</td>\n",
       "      <td>3</td>\n",
       "      <td>2</td>\n",
       "      <td>4</td>\n",
       "      <td>1480</td>\n",
       "    </tr>\n",
       "    <tr>\n",
       "      <th>1755</th>\n",
       "      <td>B</td>\n",
       "      <td>6</td>\n",
       "      <td>0.00</td>\n",
       "      <td>1</td>\n",
       "      <td>3</td>\n",
       "      <td>14</td>\n",
       "      <td>1755</td>\n",
       "    </tr>\n",
       "    <tr>\n",
       "      <th>1336</th>\n",
       "      <td>B</td>\n",
       "      <td>6</td>\n",
       "      <td>94.04</td>\n",
       "      <td>2</td>\n",
       "      <td>0</td>\n",
       "      <td>23</td>\n",
       "      <td>1336</td>\n",
       "    </tr>\n",
       "  </tbody>\n",
       "</table>\n",
       "</div>"
      ],
      "text/plain": [
       "     Variant  Number of page views  GMV (in $)  Number of add to cart  \\\n",
       "1394       B                     5        0.00                      3   \n",
       "1432       B                     5        0.00                      4   \n",
       "1543       B                    10      140.43                      2   \n",
       "1599       B                     4        0.00                      1   \n",
       "1403       B                     3       91.03                      3   \n",
       "1484       B                     6        0.00                      1   \n",
       "1560       B                     9        0.00                      4   \n",
       "1480       B                     5        0.00                      3   \n",
       "1755       B                     6        0.00                      1   \n",
       "1336       B                     6       94.04                      2   \n",
       "\n",
       "      Clicks on media  Time on Page (sec)  user_id  \n",
       "1394                1                   7     1394  \n",
       "1432                1                  79     1432  \n",
       "1543                3                  42     1543  \n",
       "1599                2                  19     1599  \n",
       "1403                1                  13     1403  \n",
       "1484                1                  21     1484  \n",
       "1560                2                   4     1560  \n",
       "1480                2                   4     1480  \n",
       "1755                3                  14     1755  \n",
       "1336                0                  23     1336  "
      ]
     },
     "execution_count": 39,
     "metadata": {},
     "output_type": "execute_result"
    }
   ],
   "source": [
    "# Sampling data for variant B\n",
    "sampled_data_B = data[data[\"Variant\"]==\"B\"].sample(n=300, replace=True, random_state=452)\n",
    "sampled_data_B.head(10)"
   ]
  },
  {
   "cell_type": "code",
   "execution_count": 40,
   "id": "a24fb46f-726f-40fd-aec1-57dc0143c32e",
   "metadata": {},
   "outputs": [
    {
     "data": {
      "text/plain": [
       "8.010866666666667"
      ]
     },
     "execution_count": 40,
     "metadata": {},
     "output_type": "execute_result"
    }
   ],
   "source": [
    "sample_mean_B = sampled_data_B['GMV (in $)'].mean()\n",
    "sample_mean_B"
   ]
  },
  {
   "cell_type": "code",
   "execution_count": 41,
   "id": "f97d2f6a-9e21-4a45-af7c-d83a6c9e4c81",
   "metadata": {},
   "outputs": [],
   "source": [
    "# Do a random sampling for GMV for variant B\n",
    "estimate_list_B = []\n",
    "for i in range(1000):\n",
    "    estimate_list.append(sampled_data_B['GMV (in $)'].sample(n=300,replace=True).mean())"
   ]
  },
  {
   "cell_type": "code",
   "execution_count": 42,
   "id": "bd7dc4a3-83c1-4c93-82cb-18db522db34c",
   "metadata": {},
   "outputs": [
    {
     "data": {
      "text/html": [
       "<div>\n",
       "<style scoped>\n",
       "    .dataframe tbody tr th:only-of-type {\n",
       "        vertical-align: middle;\n",
       "    }\n",
       "\n",
       "    .dataframe tbody tr th {\n",
       "        vertical-align: top;\n",
       "    }\n",
       "\n",
       "    .dataframe thead th {\n",
       "        text-align: right;\n",
       "    }\n",
       "</style>\n",
       "<table border=\"1\" class=\"dataframe\">\n",
       "  <thead>\n",
       "    <tr style=\"text-align: right;\">\n",
       "      <th></th>\n",
       "      <th>estimate</th>\n",
       "    </tr>\n",
       "  </thead>\n",
       "  <tbody>\n",
       "    <tr>\n",
       "      <th>0</th>\n",
       "      <td>7.707667</td>\n",
       "    </tr>\n",
       "    <tr>\n",
       "      <th>1</th>\n",
       "      <td>5.417033</td>\n",
       "    </tr>\n",
       "    <tr>\n",
       "      <th>2</th>\n",
       "      <td>7.571200</td>\n",
       "    </tr>\n",
       "    <tr>\n",
       "      <th>3</th>\n",
       "      <td>7.195700</td>\n",
       "    </tr>\n",
       "    <tr>\n",
       "      <th>4</th>\n",
       "      <td>7.286333</td>\n",
       "    </tr>\n",
       "  </tbody>\n",
       "</table>\n",
       "</div>"
      ],
      "text/plain": [
       "   estimate\n",
       "0  7.707667\n",
       "1  5.417033\n",
       "2  7.571200\n",
       "3  7.195700\n",
       "4  7.286333"
      ]
     },
     "execution_count": 42,
     "metadata": {},
     "output_type": "execute_result"
    }
   ],
   "source": [
    "estimate_df_B = pd.DataFrame(data={'estimate': estimate_list})\n",
    "estimate_df_B.head()"
   ]
  },
  {
   "cell_type": "code",
   "execution_count": 43,
   "id": "7bd53ca4-ae76-4aca-9ca3-ac98e37376e7",
   "metadata": {},
   "outputs": [
    {
     "data": {
      "text/plain": [
       "7.597905450000001"
      ]
     },
     "execution_count": 43,
     "metadata": {},
     "output_type": "execute_result"
    }
   ],
   "source": [
    "mean_sample_means_B= estimate_df_B['estimate'].mean()\n",
    "mean_sample_means_B"
   ]
  },
  {
   "cell_type": "code",
   "execution_count": 44,
   "id": "26a663b3-0aa2-4100-bd64-ae61970ce4cf",
   "metadata": {},
   "outputs": [
    {
     "data": {
      "text/plain": [
       "<AxesSubplot:>"
      ]
     },
     "execution_count": 44,
     "metadata": {},
     "output_type": "execute_result"
    },
    {
     "data": {
      "image/png": "[encoded data removed]",
      "text/plain": [
       "<Figure size 432x288 with 1 Axes>"
      ]
     },
     "metadata": {},
     "output_type": "display_data"
    }
   ],
   "source": [
    "# Distribution using a histogram \n",
    "estimate_df_B['estimate'].hist()"
   ]
  },
  {
   "cell_type": "markdown",
   "id": "cb397b06-225b-4e01-b365-4ee5a6adcd00",
   "metadata": {},
   "source": [
    "# Step4: Hypotheses & Statistical Test"
   ]
  },
  {
   "cell_type": "markdown",
   "id": "31d0d1fe-8691-4e00-956f-ba7895a0faca",
   "metadata": {},
   "source": [
    "### Null Hypothesis :The change from a horizontal to a vertical media rail on the product page has no significant impact on user engagement and sales.\n",
    " ### H0 µA=µB\n",
    " ### Alternative Hypothesis : Based on the Ux expert  recommendations ,we believe that the change from a horizontal to a vertical media rail on the product page has a significant positive impact on user engagement and sales, As measured by Conversion rate & Gross Merchandise Value (GMV)\n",
    " ### H1 µB>µA"
   ]
  },
  {
   "cell_type": "code",
   "execution_count": 45,
   "id": "857686c7-b027-4489-ab0b-44fcdfea78c1",
   "metadata": {},
   "outputs": [
    {
     "name": "stdout",
     "output_type": "stream",
     "text": [
      "Test Statistic: -3.0091\n",
      "P-value: 0.0027\n",
      "The difference in conversion rates is statistically significant.\n"
     ]
    }
   ],
   "source": [
    "from scipy.stats import ttest_ind\n",
    "\n",
    "# dropping zero values for CR_A and CR_B\n",
    "t_stat, p_value = ttest_ind(CR_A.dropna(), CR_B.dropna())\n",
    "\n",
    "# Output results\n",
    "print(f'Test Statistic: {t_stat:.4f}')\n",
    "print(f'P-value: {p_value:.4f}')\n",
    "\n",
    "# Check for statistical significance (assuming a significance level of 0.05)\n",
    "if p_value < 0.05:\n",
    "    print('The difference in conversion rates is statistically significant.')\n",
    "else:\n",
    "    print('The difference in conversion rates is not statistically significant.')"
   ]
  },
  {
   "cell_type": "code",
   "execution_count": 46,
   "id": "5d589061-ceaa-44ea-b3c9-1faa06674da5",
   "metadata": {},
   "outputs": [
    {
     "name": "stdout",
     "output_type": "stream",
     "text": [
      "One-Tailed T-Test Results for Number of page views:\n",
      "Statistic: -1.2839539769831623\n",
      "P-value: 0.09965388089258656\n",
      "There is not enough evidence to suggest that the GMV (in $) in Variant B is greater than Variant A.\n"
     ]
    }
   ],
   "source": [
    "\n",
    "# Separate data for each variant\n",
    "variant_a_data = data[data['Variant'] == 'A']['GMV (in $)']\n",
    "variant_b_data = data[data['Variant'] == 'B']['GMV (in $)']\n",
    "\n",
    "# Perform one-tailed t-test for \"Number of add to cart\" with Variant B > Variant A\n",
    "statistic, p_value = ttest_ind(variant_a_data, variant_b_data, alternative='less', equal_var=False)\n",
    "\n",
    "# Display the results\n",
    "print(\"One-Tailed T-Test Results for Number of page views:\")\n",
    "print(f\"Statistic: {statistic}\")\n",
    "print(f\"P-value: {p_value}\")\n",
    "\n",
    "# Interpretation based on the p-value\n",
    "alpha = 0.05\n",
    "if p_value < alpha:\n",
    "    print(\"The Number of GMV (in $) in Variant B is statistically significantly greater than Variant A.\")\n",
    "else:\n",
    "    print(\"There is not enough evidence to suggest that the GMV (in $) in Variant B is greater than Variant A.\")\n"
   ]
  },
  {
   "cell_type": "markdown",
   "id": "f4f479ff-c91e-4011-80d1-efaed0d8e075",
   "metadata": {},
   "source": [
    "# Step 5: Conclousion"
   ]
  },
  {
   "cell_type": "markdown",
   "id": "f523e0ea-98e5-4bc5-b5bd-994a73c48491",
   "metadata": {},
   "source": [
    "#### Overall Conclusion:\n",
    "\n",
    "##### The changes in the product page's media rail from horizontal to vertical had a statistically significant impact on the Conversion Rate . Users in Variant B (vertical media rail) showed a significant increase in conversion rates compared to Variant A.\n",
    "\n",
    "##### However, there is no statistically significant difference in and Gross Merchandise Value (GMV) between Variant A and Variant B. This suggests that while the changes influenced user engagement and conversion, they did not have a significant impact on and Gross Merchandise Value (GMV)."
   ]
  },
  {
   "cell_type": "markdown",
   "id": "e824f812-3ef8-40b2-959b-3ddbb09fff03",
   "metadata": {},
   "source": [
    "##### The presented conclusions are based on the data available, and the duration of the test is not explicitly mentioned.\n",
    "##### It is essential to consider the test duration when interpreting results. If the test was conducted over a more extended period, it could contribute to the stability and reliability of the findings.\n",
    "##### Longer durations may provide a more comprehensive understanding of user behavior and revenue generation patterns."
   ]
  },
  {
   "cell_type": "code",
   "execution_count": null,
   "id": "594db04f-9dc2-40c3-839b-77d2404c447e",
   "metadata": {},
   "outputs": [],
   "source": []
  }
 ],
 "metadata": {
  "kernelspec": {
   "display_name": "Python 3 (ipykernel)",
   "language": "python",
   "name": "python3"
  },
  "language_info": {
   "codemirror_mode": {
    "name": "ipython",
    "version": 3
   },
   "file_extension": ".py",
   "mimetype": "text/x-python",
   "name": "python",
   "nbconvert_exporter": "python",
   "pygments_lexer": "ipython3",
   "version": "3.9.12"
  }
 },
 "nbformat": 4,
 "nbformat_minor": 5
}
